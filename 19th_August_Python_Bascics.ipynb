{
 "cells": [
  {
   "cell_type": "markdown",
   "id": "a9142d4a-4cb7-4726-8edc-ecf165f03ace",
   "metadata": {
    "tags": []
   },
   "source": [
    "# Swap the values of x and y "
   ]
  },
  {
   "cell_type": "code",
   "execution_count": 11,
   "id": "de673d01-2076-4d4d-b684-f3bc83df6b9a",
   "metadata": {},
   "outputs": [
    {
     "name": "stdout",
     "output_type": "stream",
     "text": [
      "31\n",
      "21\n"
     ]
    }
   ],
   "source": [
    "x = 21\n",
    "y = 31\n",
    "\n",
    "x = x+y #It adds the values of x and y and stores the result in x\n",
    "y = x-y #It subtracts y from the value of x and stores the result in y(new)\n",
    "x = x-y #It subtracts new y from the value of x\n",
    "\n",
    "# is we are not using print it only shows the value of y so used print to get the values of both x and y\n",
    "\n",
    "print(x) #prints value of x\n",
    "print(y) #prints value of y\n"
   ]
  },
  {
   "cell_type": "markdown",
   "id": "243ff1ee-fcef-4198-b704-bd2b67ea6afe",
   "metadata": {
    "tags": []
   },
   "source": [
    "# Calculate the Area"
   ]
  },
  {
   "cell_type": "code",
   "execution_count": 121,
   "id": "210faa3f-9733-4873-9ae7-99eaa0778dc4",
   "metadata": {},
   "outputs": [
    {
     "name": "stdin",
     "output_type": "stream",
     "text": [
      " 20\n",
      " 30\n"
     ]
    },
    {
     "data": {
      "text/plain": [
       "600"
      ]
     },
     "execution_count": 121,
     "metadata": {},
     "output_type": "execute_result"
    }
   ],
   "source": [
    "l =int(input()) # used input beacuse the value should be user defined\n",
    "b =int(input())\n",
    "Area = l*b # formula for area\n",
    "Area"
   ]
  },
  {
   "cell_type": "markdown",
   "id": "cb6c9679-b0bb-433d-b97e-b506583b49f2",
   "metadata": {},
   "source": [
    "# Celsius to Fahrenheit"
   ]
  },
  {
   "cell_type": "markdown",
   "id": "7d0f6d40-02e9-48b3-9902-0d6fd1abc630",
   "metadata": {},
   "source": [
    "°F = °C × (9/5) + 32"
   ]
  },
  {
   "cell_type": "code",
   "execution_count": 13,
   "id": "56c6bae3-3056-45a0-bc0d-f4a13922f06e",
   "metadata": {},
   "outputs": [
    {
     "name": "stdin",
     "output_type": "stream",
     "text": [
      " 35.5\n"
     ]
    },
    {
     "data": {
      "text/plain": [
       "95.9"
      ]
     },
     "execution_count": 13,
     "metadata": {},
     "output_type": "execute_result"
    }
   ],
   "source": [
    "C = float(input()) # used input bcs the C value has to be user defined\n",
    "F = C*(9/5)+32 # formula to get Fahrenheit value\n",
    "F"
   ]
  },
  {
   "cell_type": "markdown",
   "id": "9ce8df56-4ae5-412e-995e-d5f509d9e4d8",
   "metadata": {},
   "source": [
    "# prints the length of the string"
   ]
  },
  {
   "cell_type": "code",
   "execution_count": 36,
   "id": "26e3492e-ac17-4b7a-b219-30e97e6ae508",
   "metadata": {},
   "outputs": [
    {
     "name": "stdin",
     "output_type": "stream",
     "text": [
      " shubham rawat\n"
     ]
    },
    {
     "name": "stdout",
     "output_type": "stream",
     "text": [
      "13\n"
     ]
    }
   ],
   "source": [
    "letter = str(input()) # letter is taking the string as input\n",
    "print(len(letter)) #len (length) function counts the number of string "
   ]
  },
  {
   "cell_type": "markdown",
   "id": "99efa151-1b47-4d28-9bee-6b75a502bf14",
   "metadata": {},
   "source": [
    "# reverse the order of characters using string slicing and print the reversed string "
   ]
  },
  {
   "cell_type": "code",
   "execution_count": 41,
   "id": "41e4ed19-557d-4d13-a618-47ab60693b3c",
   "metadata": {},
   "outputs": [
    {
     "data": {
      "text/plain": [
       "'mahbuhs'"
      ]
     },
     "execution_count": 41,
     "metadata": {},
     "output_type": "execute_result"
    }
   ],
   "source": [
    "s = \"shubham\"\n",
    "s[-1:-8:-1] #-1 is starting point from m , -8 is taken so that whole 7 letter word can get reversed, -1 again to move from rignt to left"
   ]
  },
  {
   "cell_type": "markdown",
   "id": "858023b5-9eed-46ad-a5c4-5fa954d2a316",
   "metadata": {},
   "source": [
    "# if it is a palindrome"
   ]
  },
  {
   "cell_type": "code",
   "execution_count": 44,
   "id": "1d1b6abe-e112-46fc-800e-30c4090f1cae",
   "metadata": {},
   "outputs": [
    {
     "name": "stdin",
     "output_type": "stream",
     "text": [
      " dad\n"
     ]
    },
    {
     "name": "stdout",
     "output_type": "stream",
     "text": [
      "True\n"
     ]
    }
   ],
   "source": [
    "string1 = str(input()) # this is for input of \n",
    "string2 = string1[-1:-1000:-1] # trying to reverse the user defined string 1, new string value to reverse the existing string ( longest word in english has 45 charcters so took -1000 as highest range\n",
    "print(bool(string2 == string1)) # finally printing result in True and false whether the reversed string is same as original input string"
   ]
  },
  {
   "cell_type": "markdown",
   "id": "cce8cdd7-1cdc-470e-9c75-fecc243aea2a",
   "metadata": {},
   "source": [
    "# removes all the spaces from it. Print the modified string without spaces"
   ]
  },
  {
   "cell_type": "code",
   "execution_count": 46,
   "id": "1643ce4a-383a-4bba-ba15-7b2d8c4f3b83",
   "metadata": {},
   "outputs": [
    {
     "name": "stdin",
     "output_type": "stream",
     "text": [
      "   hello world\n"
     ]
    },
    {
     "data": {
      "text/plain": [
       "'hello world'"
      ]
     },
     "execution_count": 46,
     "metadata": {},
     "output_type": "execute_result"
    }
   ],
   "source": [
    "string = str(input())\n",
    "str.strip(string) #strip function removes the righat and left spaces from the string simultaneously"
   ]
  },
  {
   "cell_type": "code",
   "execution_count": null,
   "id": "88c925db-df71-4318-bce0-ed2b8eea1f2f",
   "metadata": {},
   "outputs": [],
   "source": []
  }
 ],
 "metadata": {
  "kernelspec": {
   "display_name": "Python 3 (ipykernel)",
   "language": "python",
   "name": "python3"
  },
  "language_info": {
   "codemirror_mode": {
    "name": "ipython",
    "version": 3
   },
   "file_extension": ".py",
   "mimetype": "text/x-python",
   "name": "python",
   "nbconvert_exporter": "python",
   "pygments_lexer": "ipython3",
   "version": "3.10.8"
  }
 },
 "nbformat": 4,
 "nbformat_minor": 5
}
